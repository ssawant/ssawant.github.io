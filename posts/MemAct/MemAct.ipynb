{
 "cells": [
  {
   "cell_type": "markdown",
   "id": "5e0cc411",
   "metadata": {},
   "source": [
    "---\n",
    "title: \"Memory As Action (MemAct) : Autonomous Context Curation For Long-Horizon Agentic Tasks\"\n",
    "author: \"Santosh Sawant\"\n",
    "date: \"2024-10-15\"\n",
    "categories: [llm, research paper]\n",
    "image: \"01.jpeg\"\n",
    "---"
   ]
  },
  {
   "cell_type": "markdown",
   "id": "c9c00f8a",
   "metadata": {},
   "source": [
    "![](01.jpeg)"
   ]
  },
  {
   "cell_type": "markdown",
   "id": "43a4b205",
   "metadata": {},
   "source": [
    "For agentic tasks demanding long-horizon reasoning and complex tool use, such as deep research and software engineering, the effectiveness of a Large Language Model (LLM) is fundamentally constrained by distracting or irrelevant context. Therefore, the critical bottleneck for long-horizon tasks shifts from merely expanding memory capacity to actively curating its contents. To achieve such a meta-task Context Curation mechanism agent required to learn to autonomously manage its own working memory by strategically selecting, integrating, and pruning information to maintain a focused and goal-relevant reasoning trace.\n",
    "\n",
    "Recent advances in long-context methods, enabled by techniques such as positional-encoding scaling, long-context sample synthesis and sparse/linear attention mechanisms, have successfully expanded the capacity of an agent’s working memory. However, simply increasing the context window does not guarantee improved reasoning performance.\n",
    "\n",
    "To address this researchers have introduced Memory-as-Action (MemAct), a framework that treats context curation as a sequence of learnable memory-editing operations. Rather than passively accumulating an ever-growing prefix, the agent learns to decide when to retain, compress, or discard segments of history, and may insert summaries to maintain coherence. These transformations are applied through explicit function-call actions, enabling the agent to develop memory strategies that improve reasoning efficiency.\n",
    "\n",
    "In conventional memory management memory operations—such as selection, compression, and summarization—are governed by handcrafted heuristics or external controllers. These behaviors remain decoupled from the agent’s core decision-making process. In contrast, the Memory-as-Action (MemAct) framework integrates such operations into the policy itself, enabling the agent to learn when and how to edit its own working memory as part of a unified decision loop. This formulation supports goal-directed, policy-driven memory management.\n",
    "\n",
    "Paper : [Memory As Action (MemAct) : Autonomous Context Curation For Long-Horizon Agentic Tasks](https://arxiv.org/abs/2409.03421)"
   ]
  },
  {
   "cell_type": "markdown",
   "id": "a4e64f24",
   "metadata": {},
   "source": []
  }
 ],
 "metadata": {
  "kernelspec": {
   "display_name": "base",
   "language": "python",
   "name": "python3"
  },
  "language_info": {
   "name": "python",
   "version": "3.12.4"
  }
 },
 "nbformat": 4,
 "nbformat_minor": 5
}
